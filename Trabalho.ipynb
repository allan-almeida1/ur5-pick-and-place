{
 "cells": [
  {
   "cell_type": "markdown",
   "source": [
    "# Trabalho ENGA75"
   ],
   "metadata": {
    "collapsed": false
   }
  },
  {
   "cell_type": "markdown",
   "source": [
    "### Autor: Allan Souza Almeida"
   ],
   "metadata": {
    "collapsed": false
   }
  },
  {
   "cell_type": "markdown",
   "source": [
    "#### Importando objeto UR5 e suas funções"
   ],
   "metadata": {
    "collapsed": false
   }
  },
  {
   "cell_type": "code",
   "execution_count": 1,
   "outputs": [
    {
     "name": "stdout",
     "output_type": "stream",
     "text": [
      "Inicializando parâmetros do robô...\n",
      "Obtendo handles das juntas...\n",
      "Iniciando simulação...\n",
      "Pronto!\n"
     ]
    }
   ],
   "source": [
    "import ur5\n",
    "import math\n",
    "import numpy as np\n",
    "import matplotlib.pyplot as plt\n",
    "import cv2\n",
    "PI = math.pi\n",
    "ur5 = ur5.UR5()"
   ],
   "metadata": {
    "collapsed": false,
    "ExecuteTime": {
     "start_time": "2023-05-25T17:08:27.998934Z",
     "end_time": "2023-05-25T17:08:35.778207Z"
    }
   }
  },
  {
   "cell_type": "markdown",
   "source": [
    "## Etapa A1\n",
    "\n",
    "Implementar a Cinemática Direta e Inversa do Robô UR5. Validar a modelagem com o auxílio do\n",
    "simulador para um conjunto de valores das variáveis das juntas (Cinemática Direta) e para um conjunto de\n",
    "posições e orientações da garra (Cinemática Inversa)"
   ],
   "metadata": {
    "collapsed": false
   }
  },
  {
   "cell_type": "markdown",
   "source": [
    "#### Cinemática Direta"
   ],
   "metadata": {
    "collapsed": false
   }
  },
  {
   "cell_type": "markdown",
   "source": [
    "<img src=\"Cinemática Direta (DH).png\" width=\"500\">"
   ],
   "metadata": {
    "collapsed": false
   }
  },
  {
   "cell_type": "code",
   "execution_count": null,
   "outputs": [],
   "source": [
    "def validate_fk(ang):\n",
    "    fk = ur5.forward_kinematics(ang)    # Calcular cinemática direta a partir dos ângulos\n",
    "    print('Cinemática Direta: ')\n",
    "    print(fk)\n",
    "    ur5.move_to_config(ang)     # Mover para a posição\n",
    "    print('Ground Truth: ')\n",
    "    gt = ur5.get_ground_truth()     # Obter Ground Truth\n",
    "    print(gt)\n",
    "    print('Erro: ', np.linalg.norm(fk-gt)/np.linalg.norm(gt)*100, '%')  # Calcular e printar erro"
   ],
   "metadata": {
    "collapsed": false,
    "ExecuteTime": {
     "start_time": "2023-05-25T08:48:26.151484Z",
     "end_time": "2023-05-25T08:48:26.153455Z"
    }
   }
  },
  {
   "cell_type": "code",
   "execution_count": null,
   "outputs": [],
   "source": [
    "validate_fk([.5*PI, .05*PI, .45*PI, 0, -.5*PI, .5*PI])"
   ],
   "metadata": {
    "collapsed": false,
    "ExecuteTime": {
     "start_time": "2023-05-24T19:31:56.435435Z",
     "end_time": "2023-05-24T19:31:58.337829Z"
    }
   }
  },
  {
   "cell_type": "code",
   "execution_count": null,
   "outputs": [],
   "source": [
    "validate_fk([-.5*PI, -.05*PI, -.45*PI, 0, .5*PI, .5*PI])"
   ],
   "metadata": {
    "collapsed": false,
    "ExecuteTime": {
     "start_time": "2023-05-24T19:32:03.842988Z",
     "end_time": "2023-05-24T19:32:10.775157Z"
    }
   }
  },
  {
   "cell_type": "code",
   "execution_count": null,
   "outputs": [],
   "source": [
    "validate_fk([PI/2, 0, 0, 0, 0, 0])"
   ],
   "metadata": {
    "collapsed": false,
    "ExecuteTime": {
     "start_time": "2023-05-24T18:41:36.763727Z",
     "end_time": "2023-05-24T18:41:43.316082Z"
    }
   }
  },
  {
   "cell_type": "code",
   "execution_count": null,
   "outputs": [],
   "source": [
    "validate_fk([.1*PI, .18*PI, .57*PI, 0.25*PI, 0.2, PI/2])"
   ],
   "metadata": {
    "collapsed": false,
    "ExecuteTime": {
     "start_time": "2023-05-24T18:41:48.032509Z",
     "end_time": "2023-05-24T18:41:52.059327Z"
    }
   }
  },
  {
   "cell_type": "code",
   "execution_count": null,
   "outputs": [],
   "source": [
    "validate_fk([-.3*PI, -.04*PI, -.8*PI, -0.17*PI, -0.5, PI/2])"
   ],
   "metadata": {
    "collapsed": false,
    "ExecuteTime": {
     "start_time": "2023-05-24T18:42:07.422736Z",
     "end_time": "2023-05-24T18:42:16.460524Z"
    }
   }
  },
  {
   "cell_type": "code",
   "execution_count": null,
   "outputs": [],
   "source": [
    "validate_fk([0.2, .04*PI, .8*PI, 0.17*PI, 0.3, PI/2])"
   ],
   "metadata": {
    "collapsed": false,
    "ExecuteTime": {
     "start_time": "2023-05-24T18:42:47.372871Z",
     "end_time": "2023-05-24T18:42:51.127489Z"
    }
   }
  },
  {
   "cell_type": "markdown",
   "source": [
    "#### Cinemática Inversa"
   ],
   "metadata": {
    "collapsed": false
   }
  },
  {
   "cell_type": "markdown",
   "source": [
    "<img src=\"gripper.png\" width=\"700\">"
   ],
   "metadata": {
    "collapsed": false
   }
  },
  {
   "cell_type": "code",
   "execution_count": null,
   "outputs": [],
   "source": [
    "ur5.move_to_pose([-0.1, -.55, .4], [PI, 0, PI/2], wrist='up')"
   ],
   "metadata": {
    "collapsed": false,
    "ExecuteTime": {
     "start_time": "2023-05-25T10:45:32.563293Z",
     "end_time": "2023-05-25T10:45:38.878842Z"
    }
   }
  },
  {
   "cell_type": "code",
   "execution_count": null,
   "outputs": [],
   "source": [
    "ur5.move_to_pose([-0.1, -.55, .4], [0, 0, -PI/2], wrist='down')"
   ],
   "metadata": {
    "collapsed": false,
    "ExecuteTime": {
     "start_time": "2023-05-25T10:06:17.685590Z",
     "end_time": "2023-05-25T10:06:25.597908Z"
    }
   }
  },
  {
   "cell_type": "code",
   "execution_count": null,
   "outputs": [],
   "source": [
    "ur5.move_to_pose([-0.1, -.55, .4], [PI/2, 0, PI/2], wrist='down')"
   ],
   "metadata": {
    "collapsed": false,
    "ExecuteTime": {
     "start_time": "2023-05-25T10:07:39.472520Z",
     "end_time": "2023-05-25T10:07:41.018851Z"
    }
   }
  },
  {
   "cell_type": "code",
   "execution_count": null,
   "outputs": [],
   "source": [
    "ur5.move_to_pose([-0.1, -.45, .4], [PI/2, 0, PI/2], wrist='down')"
   ],
   "metadata": {
    "collapsed": false,
    "ExecuteTime": {
     "start_time": "2023-05-25T10:08:07.073069Z",
     "end_time": "2023-05-25T10:08:08.704847Z"
    }
   }
  },
  {
   "cell_type": "code",
   "execution_count": null,
   "outputs": [],
   "source": [
    "ur5.move_to_pose([-0.1, -.45, .25], [PI/2, 0, PI/2], wrist='down')"
   ],
   "metadata": {
    "collapsed": false,
    "ExecuteTime": {
     "start_time": "2023-05-25T10:08:52.257585Z",
     "end_time": "2023-05-25T10:08:56.565643Z"
    }
   }
  },
  {
   "cell_type": "code",
   "execution_count": null,
   "outputs": [],
   "source": [
    "ur5.move_to_pose([-0.1, -.45, .25], [0, -PI/2, 0], wrist='up')"
   ],
   "metadata": {
    "collapsed": false,
    "ExecuteTime": {
     "start_time": "2023-05-25T10:09:17.426743Z",
     "end_time": "2023-05-25T10:09:21.743825Z"
    }
   }
  },
  {
   "cell_type": "markdown",
   "source": [
    "## Etapa A2\n",
    "\n",
    "Implementar um sistema de planejamento de trajetórias no espaço de juntas com uma das abordagens\n",
    "abaixo:\n",
    "\n",
    "1. Trajetórias polinomiais cúbicas ou de quinto grau;\n",
    "2. Linear Segments with Parabolic Blends (LSPB);\n",
    "3. Minimum Time Trajectories"
   ],
   "metadata": {
    "collapsed": false
   }
  },
  {
   "cell_type": "markdown",
   "source": [
    "<b>Polinômio de Quinto Grau</b>"
   ],
   "metadata": {
    "collapsed": false
   }
  },
  {
   "cell_type": "markdown",
   "source": [
    "<p>$q(t) = a_0+a_1 t + a_2 t^2 + a_3 t^3 + a_4 t^4 + a_5 t^5$</p>\n",
    "\n",
    "<p>$\\dot{q}(t) = a_1 + 2 a_2 t + 3 a_3 t^2 + 4 a_4 t^3 + 5 a_5 t^4$</p>\n",
    "\n",
    "<p>$\\ddot{q}(t) = 2 a_2 + 6 a_3 t + 12 a_4 t^2 + 20 a_5 t^3$</p>"
   ],
   "metadata": {
    "collapsed": false
   }
  },
  {
   "cell_type": "markdown",
   "source": [
    "$\\begin{bmatrix}\n",
    "1 & t_0 & t_0^2 & t_0^3 & t_0^4 & t_0^5\\\\\n",
    "0 & 1 & 2t_0 & 3t_0^2 & 4t_0^3 & 5t_0^4\\\\\n",
    "0 & 0 & 2 & 6t_0 & 12t_0^2 & 20t_0^3\\\\\n",
    "1 & t_f & t_f^2 & t_f^3 & t_f^4 & t_f^5\\\\\n",
    "0 & 1 & 2t_f & 3t_f^2 & 4t_f^3 & 5t_f^4\\\\\n",
    "0 & 0 & 2 & 6t_f & 12t_f^2 & 20t_f^3\\\\\n",
    "\\end{bmatrix}\n",
    "\n",
    "\\cdot\n",
    "\n",
    "\\begin{bmatrix}\n",
    "a_0\\\\\n",
    "a_1\\\\\n",
    "a_2\\\\\n",
    "a_3\\\\\n",
    "a_4\\\\\n",
    "a_5\\\\\n",
    "\\end{bmatrix}\n",
    "\n",
    "=\n",
    "\n",
    "\\begin{bmatrix}\n",
    "q_0\\\\\n",
    "\\dot{q}_0\\\\\n",
    "\\ddot{q}_0\\\\\n",
    "q_f\\\\\n",
    "\\dot{q}_f\\\\\n",
    "\\ddot{q}_f\\\\\n",
    "\\end{bmatrix}$\n",
    "\n",
    "<p>$A\\cdot X = B$</p>"
   ],
   "metadata": {
    "collapsed": false
   }
  },
  {
   "cell_type": "code",
   "execution_count": null,
   "outputs": [],
   "source": [
    "t, max_err, mean_err, graphs = ur5.move_to_config([.5*PI, .05*PI, .45*PI, 0, -.5*PI, .3*PI], graph=True)"
   ],
   "metadata": {
    "collapsed": false,
    "ExecuteTime": {
     "start_time": "2023-05-25T10:42:31.456554Z",
     "end_time": "2023-05-25T10:42:34.936599Z"
    }
   }
  },
  {
   "cell_type": "code",
   "execution_count": null,
   "outputs": [],
   "source": [
    "titles = ['Posição', 'Velocidade', 'Aceleração', 'Solavanco']\n",
    "axes = ['rad', 'rad/s', 'rad/$s^2$', 'rad/$s^3$']\n",
    "\n",
    "for i in range(4):\n",
    "    for j in range(6):\n",
    "        plt.plot(graphs[4][j], graphs[i][j])\n",
    "    plt.legend(['q1', 'q2', 'q3', 'q4', 'q5', 'q6'])\n",
    "    plt.grid()\n",
    "    plt.title(titles[i], fontsize=18)\n",
    "    plt.ylabel(axes[i], rotation=0, labelpad=20)\n",
    "    plt.xlabel('t [s]')\n",
    "    plt.show()"
   ],
   "metadata": {
    "collapsed": false,
    "ExecuteTime": {
     "start_time": "2023-05-25T10:27:43.503313Z",
     "end_time": "2023-05-25T10:27:44.135926Z"
    }
   }
  },
  {
   "cell_type": "markdown",
   "source": [
    "## Visão Computacional"
   ],
   "metadata": {
    "collapsed": false
   }
  },
  {
   "cell_type": "code",
   "execution_count": 61,
   "outputs": [],
   "source": [
    "from ur5 import ComputerVision\n",
    "import time\n",
    "cv = ComputerVision()"
   ],
   "metadata": {
    "collapsed": false,
    "ExecuteTime": {
     "start_time": "2023-05-25T17:13:13.100756Z",
     "end_time": "2023-05-25T17:13:13.231348Z"
    }
   }
  },
  {
   "cell_type": "code",
   "execution_count": 62,
   "outputs": [
    {
     "name": "stdout",
     "output_type": "stream",
     "text": [
      "Iterações totais:  7\n",
      "Erro pose final:  0.07267123347243966 %\n"
     ]
    }
   ],
   "source": [
    "ur5.move_to_pose([-0.1, -.55, .4], [PI, 0, PI/2], wrist='up')"
   ],
   "metadata": {
    "collapsed": false,
    "ExecuteTime": {
     "start_time": "2023-05-25T17:13:13.229288Z",
     "end_time": "2023-05-25T17:13:14.965341Z"
    }
   }
  },
  {
   "cell_type": "code",
   "execution_count": 63,
   "outputs": [
    {
     "data": {
      "text/plain": "<Figure size 640x480 with 1 Axes>",
      "image/png": "[encoded data removed]"
     },
     "metadata": {},
     "output_type": "display_data"
    }
   ],
   "source": [
    "cup_position = cv.move_cup()"
   ],
   "metadata": {
    "collapsed": false,
    "ExecuteTime": {
     "start_time": "2023-05-25T17:13:14.965047Z",
     "end_time": "2023-05-25T17:13:15.127965Z"
    }
   }
  },
  {
   "cell_type": "code",
   "execution_count": 64,
   "outputs": [
    {
     "name": "stdout",
     "output_type": "stream",
     "text": [
      "Iterações totais:  45\n",
      "Erro pose final:  0.10937369039571035 %\n"
     ]
    }
   ],
   "source": [
    "ur5.move_to_pose(cup_position+np.array([0, 0.2, 0.015]), [PI/2, 0, -PI/2])"
   ],
   "metadata": {
    "collapsed": false,
    "ExecuteTime": {
     "start_time": "2023-05-25T17:13:15.130428Z",
     "end_time": "2023-05-25T17:13:22.660024Z"
    }
   }
  },
  {
   "cell_type": "code",
   "execution_count": 65,
   "outputs": [
    {
     "name": "stdout",
     "output_type": "stream",
     "text": [
      "Iterações totais:  29\n",
      "Erro pose final:  0.08676297254659436 %\n"
     ]
    }
   ],
   "source": [
    "ur5.move_to_pose(cup_position + np.array([0, 0.02, 0.015]), [PI / 2, 0, -PI / 2], duration=6)"
   ],
   "metadata": {
    "collapsed": false,
    "ExecuteTime": {
     "start_time": "2023-05-25T17:13:22.660290Z",
     "end_time": "2023-05-25T17:13:27.808388Z"
    }
   }
  },
  {
   "cell_type": "code",
   "execution_count": 66,
   "outputs": [],
   "source": [
    "ur5.close_gripper()"
   ],
   "metadata": {
    "collapsed": false,
    "ExecuteTime": {
     "start_time": "2023-05-25T17:13:27.809913Z",
     "end_time": "2023-05-25T17:13:28.455149Z"
    }
   }
  },
  {
   "cell_type": "code",
   "execution_count": 67,
   "outputs": [
    {
     "name": "stdout",
     "output_type": "stream",
     "text": [
      "Iterações totais:  50\n",
      "Erro pose final:  1.011304743465304 %\n"
     ]
    }
   ],
   "source": [
    "ur5.move_to_pose(np.array([0.4, 0, cup_position[2]+0.1]), [PI/2, 0, -PI/2], wrist='up', duration=10)"
   ],
   "metadata": {
    "collapsed": false,
    "ExecuteTime": {
     "start_time": "2023-05-25T17:13:28.455045Z",
     "end_time": "2023-05-25T17:13:37.322674Z"
    }
   }
  },
  {
   "cell_type": "code",
   "execution_count": 68,
   "outputs": [
    {
     "name": "stdout",
     "output_type": "stream",
     "text": [
      "Iterações totais:  7\n",
      "Erro pose final:  0.09040997051481112 %\n"
     ]
    }
   ],
   "source": [
    "ur5.move_to_pose(np.array([0.4, 0, cup_position[2]+0.01]), [PI/2, 0, -PI/2], wrist='up')"
   ],
   "metadata": {
    "collapsed": false,
    "ExecuteTime": {
     "start_time": "2023-05-25T17:13:37.323593Z",
     "end_time": "2023-05-25T17:13:39.111745Z"
    }
   }
  },
  {
   "cell_type": "code",
   "execution_count": 69,
   "outputs": [],
   "source": [
    "ur5.open_gripper()\n",
    "time.sleep(1)"
   ],
   "metadata": {
    "collapsed": false,
    "ExecuteTime": {
     "start_time": "2023-05-25T17:13:39.113073Z",
     "end_time": "2023-05-25T17:13:40.577929Z"
    }
   }
  },
  {
   "cell_type": "code",
   "execution_count": 70,
   "outputs": [
    {
     "name": "stdout",
     "output_type": "stream",
     "text": [
      "Iterações totais:  7\n",
      "Erro pose final:  0.09303571982201327 %\n"
     ]
    }
   ],
   "source": [
    "ur5.move_to_pose(np.array([0.4, .1, cup_position[2]+0.01]), [PI/2, 0, -PI/2], wrist='up')"
   ],
   "metadata": {
    "collapsed": false,
    "ExecuteTime": {
     "start_time": "2023-05-25T17:13:40.581026Z",
     "end_time": "2023-05-25T17:13:42.363837Z"
    }
   }
  },
  {
   "cell_type": "code",
   "execution_count": 71,
   "outputs": [
    {
     "name": "stdout",
     "output_type": "stream",
     "text": [
      "Iterações totais:  7\n",
      "Erro pose final:  0.07539520068576927 %\n"
     ]
    }
   ],
   "source": [
    "ur5.move_to_pose(np.array([0.4, .1, cup_position[2]+0.2]), [PI/2, 0, -PI/2], wrist='up')"
   ],
   "metadata": {
    "collapsed": false,
    "ExecuteTime": {
     "start_time": "2023-05-25T17:13:42.365501Z",
     "end_time": "2023-05-25T17:13:43.878667Z"
    }
   }
  },
  {
   "cell_type": "code",
   "execution_count": 72,
   "outputs": [
    {
     "name": "stdout",
     "output_type": "stream",
     "text": [
      "Iterações totais:  30\n",
      "Erro pose final:  0.08487501410940515 %\n"
     ]
    }
   ],
   "source": [
    "ur5.move_to_pose([-0.1, -.55, .4], [PI, 0, PI/2], wrist='up')"
   ],
   "metadata": {
    "collapsed": false,
    "ExecuteTime": {
     "start_time": "2023-05-25T17:13:43.880719Z",
     "end_time": "2023-05-25T17:13:49.656540Z"
    }
   }
  }
 ],
 "metadata": {
  "kernelspec": {
   "display_name": "Python 3",
   "language": "python",
   "name": "python3"
  },
  "language_info": {
   "codemirror_mode": {
    "name": "ipython",
    "version": 2
   },
   "file_extension": ".py",
   "mimetype": "text/x-python",
   "name": "python",
   "nbconvert_exporter": "python",
   "pygments_lexer": "ipython2",
   "version": "2.7.6"
  }
 },
 "nbformat": 4,
 "nbformat_minor": 0
}
