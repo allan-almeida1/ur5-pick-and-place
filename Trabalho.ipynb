{
 "cells": [
  {
   "cell_type": "markdown",
   "source": [
    "# Trabalho ENGA75"
   ],
   "metadata": {
    "collapsed": false
   }
  },
  {
   "cell_type": "markdown",
   "source": [
    "### Autor: Allan Souza Almeida"
   ],
   "metadata": {
    "collapsed": false
   }
  },
  {
   "cell_type": "markdown",
   "source": [
    "#### Importando objeto UR5 e suas funções"
   ],
   "metadata": {
    "collapsed": false
   }
  },
  {
   "cell_type": "code",
   "execution_count": null,
   "outputs": [],
   "source": [
    "import ur5\n",
    "import math\n",
    "import numpy as np\n",
    "import matplotlib.pyplot as plt\n",
    "PI = math.pi\n",
    "ur5 = ur5.UR5()"
   ],
   "metadata": {
    "collapsed": false,
    "ExecuteTime": {
     "start_time": "2023-06-01T09:39:11.184344Z",
     "end_time": "2023-06-01T09:39:12.623135Z"
    }
   }
  },
  {
   "cell_type": "markdown",
   "source": [
    "## Etapa A1\n",
    "\n",
    "Implementar a Cinemática Direta e Inversa do Robô UR5. Validar a modelagem com o auxílio do\n",
    "simulador para um conjunto de valores das variáveis das juntas (Cinemática Direta) e para um conjunto de\n",
    "posições e orientações da garra (Cinemática Inversa)"
   ],
   "metadata": {
    "collapsed": false
   }
  },
  {
   "cell_type": "markdown",
   "source": [
    "#### Cinemática Direta"
   ],
   "metadata": {
    "collapsed": false
   }
  },
  {
   "cell_type": "markdown",
   "source": [
    "<img src=\"Cinemática Direta (DH).png\" width=\"500\">"
   ],
   "metadata": {
    "collapsed": false
   }
  },
  {
   "cell_type": "code",
   "execution_count": null,
   "outputs": [],
   "source": [
    "def validate_fk(ang):\n",
    "    fk, _ = ur5.forward_kinematics(ang)    # Calcular cinemática direta a partir dos ângulos\n",
    "    print('Cinemática Direta: ')\n",
    "    print(fk)\n",
    "    ur5.move_to_config(ang)     # Mover para a posição\n",
    "    print('Ground Truth: ')\n",
    "    gt = ur5.get_ground_truth()     # Obter Ground Truth\n",
    "    print(gt)\n",
    "    print('Erro: ', np.linalg.norm(fk-gt)/np.linalg.norm(gt)*100, '%')  # Calcular e printar erro"
   ],
   "metadata": {
    "collapsed": false,
    "ExecuteTime": {
     "start_time": "2023-05-25T08:48:26.151484Z",
     "end_time": "2023-05-25T08:48:26.153455Z"
    }
   }
  },
  {
   "cell_type": "code",
   "execution_count": null,
   "outputs": [],
   "source": [
    "validate_fk([.5*PI, .05*PI, .45*PI, 0, -.5*PI, .5*PI])"
   ],
   "metadata": {
    "collapsed": false,
    "ExecuteTime": {
     "start_time": "2023-05-24T19:31:56.435435Z",
     "end_time": "2023-05-24T19:31:58.337829Z"
    }
   }
  },
  {
   "cell_type": "code",
   "execution_count": null,
   "outputs": [],
   "source": [
    "validate_fk([-.5*PI, -.05*PI, -.45*PI, 0, .5*PI, .5*PI])"
   ],
   "metadata": {
    "collapsed": false,
    "ExecuteTime": {
     "start_time": "2023-05-24T19:32:03.842988Z",
     "end_time": "2023-05-24T19:32:10.775157Z"
    }
   }
  },
  {
   "cell_type": "code",
   "execution_count": null,
   "outputs": [],
   "source": [
    "validate_fk([PI/2, 0, 0, 0, 0, 0])"
   ],
   "metadata": {
    "collapsed": false,
    "ExecuteTime": {
     "start_time": "2023-05-24T18:41:36.763727Z",
     "end_time": "2023-05-24T18:41:43.316082Z"
    }
   }
  },
  {
   "cell_type": "code",
   "execution_count": null,
   "outputs": [],
   "source": [
    "validate_fk([.1*PI, .18*PI, .57*PI, 0.25*PI, 0.2, PI/2])"
   ],
   "metadata": {
    "collapsed": false,
    "ExecuteTime": {
     "start_time": "2023-05-24T18:41:48.032509Z",
     "end_time": "2023-05-24T18:41:52.059327Z"
    }
   }
  },
  {
   "cell_type": "code",
   "execution_count": null,
   "outputs": [],
   "source": [
    "validate_fk([-.3*PI, -.04*PI, -.8*PI, -0.17*PI, -0.5, PI/2])"
   ],
   "metadata": {
    "collapsed": false,
    "ExecuteTime": {
     "start_time": "2023-05-24T18:42:07.422736Z",
     "end_time": "2023-05-24T18:42:16.460524Z"
    }
   }
  },
  {
   "cell_type": "code",
   "execution_count": null,
   "outputs": [],
   "source": [
    "validate_fk([0.2, .04*PI, .8*PI, 0.17*PI, 0.3, PI/2])"
   ],
   "metadata": {
    "collapsed": false,
    "ExecuteTime": {
     "start_time": "2023-05-24T18:42:47.372871Z",
     "end_time": "2023-05-24T18:42:51.127489Z"
    }
   }
  },
  {
   "cell_type": "markdown",
   "source": [
    "#### Cinemática Inversa"
   ],
   "metadata": {
    "collapsed": false
   }
  },
  {
   "cell_type": "markdown",
   "source": [
    "<img src=\"gripper.png\" width=\"700\">"
   ],
   "metadata": {
    "collapsed": false
   }
  },
  {
   "cell_type": "code",
   "execution_count": null,
   "outputs": [],
   "source": [
    "ur5.move_to_pose([-0.1, -.55, .4], [PI, 0, PI/2], wrist='up')"
   ],
   "metadata": {
    "collapsed": false,
    "ExecuteTime": {
     "start_time": "2023-05-26T14:17:43.917960Z",
     "end_time": "2023-05-26T14:17:51.209569Z"
    }
   }
  },
  {
   "cell_type": "code",
   "execution_count": null,
   "outputs": [],
   "source": [
    "ur5.move_to_pose([-0.1, -.55, .4], [0, 0, -PI/2], wrist='down')"
   ],
   "metadata": {
    "collapsed": false,
    "ExecuteTime": {
     "start_time": "2023-05-26T14:17:22.735427Z",
     "end_time": "2023-05-26T14:17:29.592703Z"
    }
   }
  },
  {
   "cell_type": "code",
   "execution_count": null,
   "outputs": [],
   "source": [
    "ur5.move_to_pose([-0.1, -.55, .4], [PI/2, 0, -PI/2], wrist='down')"
   ],
   "metadata": {
    "collapsed": false,
    "ExecuteTime": {
     "start_time": "2023-05-26T14:18:56.376557Z",
     "end_time": "2023-05-26T14:18:58.292913Z"
    }
   }
  },
  {
   "cell_type": "code",
   "execution_count": null,
   "outputs": [],
   "source": [
    "ur5.move_to_pose([-0.1, -.45, .4], [PI/2, 0, -PI/2], wrist='down')"
   ],
   "metadata": {
    "collapsed": false,
    "ExecuteTime": {
     "start_time": "2023-05-26T14:20:02.169140Z",
     "end_time": "2023-05-26T14:20:03.703979Z"
    }
   }
  },
  {
   "cell_type": "code",
   "execution_count": null,
   "outputs": [],
   "source": [
    "ur5.move_to_pose([-0.1, -.45, .25], [PI/2, 0, -PI/2], wrist='down')"
   ],
   "metadata": {
    "collapsed": false,
    "ExecuteTime": {
     "start_time": "2023-05-26T14:21:26.228993Z",
     "end_time": "2023-05-26T14:21:31.643983Z"
    }
   }
  },
  {
   "cell_type": "code",
   "execution_count": null,
   "outputs": [],
   "source": [
    "ur5.move_to_pose([-0.1, -.45, .25], [0, -PI/2, PI], wrist='up')"
   ],
   "metadata": {
    "collapsed": false,
    "ExecuteTime": {
     "start_time": "2023-05-26T14:21:35.491666Z",
     "end_time": "2023-05-26T14:21:40.394944Z"
    }
   }
  },
  {
   "cell_type": "markdown",
   "source": [
    "## Etapa A2\n",
    "\n",
    "Implementar um sistema de planejamento de trajetórias no espaço de juntas com uma das abordagens\n",
    "abaixo:\n",
    "\n",
    "1. Trajetórias polinomiais cúbicas ou de quinto grau;\n",
    "2. Linear Segments with Parabolic Blends (LSPB);\n",
    "3. Minimum Time Trajectories"
   ],
   "metadata": {
    "collapsed": false
   }
  },
  {
   "cell_type": "markdown",
   "source": [
    "<b>Polinômio de Quinto Grau</b>"
   ],
   "metadata": {
    "collapsed": false
   }
  },
  {
   "cell_type": "markdown",
   "source": [
    "<p>$q(t) = a_0+a_1 t + a_2 t^2 + a_3 t^3 + a_4 t^4 + a_5 t^5$</p>\n",
    "\n",
    "<p>$\\dot{q}(t) = a_1 + 2 a_2 t + 3 a_3 t^2 + 4 a_4 t^3 + 5 a_5 t^4$</p>\n",
    "\n",
    "<p>$\\ddot{q}(t) = 2 a_2 + 6 a_3 t + 12 a_4 t^2 + 20 a_5 t^3$</p>"
   ],
   "metadata": {
    "collapsed": false
   }
  },
  {
   "cell_type": "markdown",
   "source": [
    "$\\begin{bmatrix}\n",
    "1 & t_0 & t_0^2 & t_0^3 & t_0^4 & t_0^5\\\\\n",
    "0 & 1 & 2t_0 & 3t_0^2 & 4t_0^3 & 5t_0^4\\\\\n",
    "0 & 0 & 2 & 6t_0 & 12t_0^2 & 20t_0^3\\\\\n",
    "1 & t_f & t_f^2 & t_f^3 & t_f^4 & t_f^5\\\\\n",
    "0 & 1 & 2t_f & 3t_f^2 & 4t_f^3 & 5t_f^4\\\\\n",
    "0 & 0 & 2 & 6t_f & 12t_f^2 & 20t_f^3\\\\\n",
    "\\end{bmatrix}\n",
    "\n",
    "\\cdot\n",
    "\n",
    "\\begin{bmatrix}\n",
    "a_0\\\\\n",
    "a_1\\\\\n",
    "a_2\\\\\n",
    "a_3\\\\\n",
    "a_4\\\\\n",
    "a_5\\\\\n",
    "\\end{bmatrix}\n",
    "\n",
    "=\n",
    "\n",
    "\\begin{bmatrix}\n",
    "q_0\\\\\n",
    "\\dot{q}_0\\\\\n",
    "\\ddot{q}_0\\\\\n",
    "q_f\\\\\n",
    "\\dot{q}_f\\\\\n",
    "\\ddot{q}_f\\\\\n",
    "\\end{bmatrix}$\n",
    "\n",
    "<p>$A\\cdot X = B$</p>"
   ],
   "metadata": {
    "collapsed": false
   }
  },
  {
   "cell_type": "code",
   "execution_count": null,
   "outputs": [],
   "source": [
    "t, max_err, mean_err, graphs, _ = ur5.move_to_config([.5*PI, .05*PI, .45*PI, 0, .5*PI, .3*PI], graph=True)"
   ],
   "metadata": {
    "collapsed": false,
    "ExecuteTime": {
     "start_time": "2023-06-01T10:49:01.260053Z",
     "end_time": "2023-06-01T10:49:08.804227Z"
    }
   }
  },
  {
   "cell_type": "code",
   "execution_count": null,
   "outputs": [],
   "source": [
    "titles = ['Posição', 'Velocidade', 'Aceleração', 'Solavanco']\n",
    "axes = ['rad', 'rad/s', 'rad/$s^2$', 'rad/$s^3$']\n",
    "\n",
    "for i in range(4):\n",
    "    for j in range(6):\n",
    "        plt.plot(graphs[4][j], graphs[i][j])\n",
    "    plt.legend(['q1', 'q2', 'q3', 'q4', 'q5', 'q6'])\n",
    "    plt.grid()\n",
    "    plt.title(titles[i], fontsize=18)\n",
    "    plt.ylabel(axes[i], rotation=0, labelpad=20)\n",
    "    plt.xlabel('t [s]')\n",
    "    plt.show()"
   ],
   "metadata": {
    "collapsed": false,
    "ExecuteTime": {
     "start_time": "2023-06-01T10:49:14.281184Z",
     "end_time": "2023-06-01T10:49:14.651334Z"
    }
   }
  },
  {
   "cell_type": "markdown",
   "source": [
    "## Jacobiano"
   ],
   "metadata": {
    "collapsed": false
   }
  },
  {
   "cell_type": "code",
   "execution_count": null,
   "outputs": [],
   "source": [
    "_, _, _, _, _ = ur5.move_to_config([0, 0, 0, 0, 0, 0])"
   ],
   "metadata": {
    "collapsed": false,
    "ExecuteTime": {
     "start_time": "2023-06-01T10:47:44.294368Z",
     "end_time": "2023-06-01T10:47:47.853409Z"
    }
   }
  },
  {
   "cell_type": "code",
   "execution_count": null,
   "outputs": [],
   "source": [
    "_, _, _, graphs, jacob = ur5.move_to_config([0, 0, -PI/2, 0, 0, 0], graph=True, jacob=True, duration=None)"
   ],
   "metadata": {
    "collapsed": false,
    "ExecuteTime": {
     "start_time": "2023-06-01T10:45:24.650123Z",
     "end_time": "2023-06-01T10:45:28.153475Z"
    }
   }
  },
  {
   "cell_type": "code",
   "execution_count": null,
   "outputs": [],
   "source": [
    "for j in range(6):\n",
    "    plt.plot(graphs[4][j], graphs[1][j])\n",
    "plt.legend(['q1', 'q2', 'q3', 'q4', 'q5', 'q6'])\n",
    "plt.grid()\n",
    "plt.title('Velocidade', fontsize=18)\n",
    "plt.ylabel('rad/s', rotation=0, labelpad=20)\n",
    "plt.xlabel('t [s]')\n",
    "plt.show()"
   ],
   "metadata": {
    "collapsed": false,
    "ExecuteTime": {
     "start_time": "2023-06-01T10:45:58.800814Z",
     "end_time": "2023-06-01T10:45:58.887601Z"
    }
   }
  },
  {
   "cell_type": "code",
   "execution_count": null,
   "outputs": [],
   "source": [
    "for j in range(3):\n",
    "    plt.plot(graphs[4][j], [i[j] for i in jacob])\n",
    "plt.title('Jacobiano (vel. lin.)', fontsize=18)\n",
    "plt.legend(['$v_x$', '$v_y$', '$v_z$'])\n",
    "plt.xlabel('t [s]')\n",
    "plt.ylabel('m/s', rotation=0, labelpad=20)\n",
    "plt.show()\n",
    "\n",
    "for j in range(3, 6):\n",
    "    plt.plot(graphs[4][j], [i[j] for i in jacob])\n",
    "plt.title('Jacobiano (vel,. ang.)', fontsize=18)\n",
    "plt.legend(['$\\omega_x$', '$\\omega_y$', '$\\omega_z$'])\n",
    "plt.xlabel('t [s]')\n",
    "plt.ylabel('rad/s', rotation=0, labelpad=20)\n",
    "plt.show()"
   ],
   "metadata": {
    "collapsed": false,
    "ExecuteTime": {
     "start_time": "2023-06-01T10:46:11.579308Z",
     "end_time": "2023-06-01T10:46:11.749895Z"
    }
   }
  },
  {
   "cell_type": "markdown",
   "source": [
    "## Visão Computacional"
   ],
   "metadata": {
    "collapsed": false
   }
  },
  {
   "cell_type": "code",
   "execution_count": null,
   "outputs": [],
   "source": [
    "from ur5 import ComputerVision\n",
    "import time\n",
    "cv = ComputerVision()"
   ],
   "metadata": {
    "collapsed": false,
    "ExecuteTime": {
     "start_time": "2023-05-29T10:03:57.702460Z",
     "end_time": "2023-05-29T10:03:57.802798Z"
    }
   }
  },
  {
   "cell_type": "code",
   "execution_count": null,
   "outputs": [],
   "source": [
    "ur5.move_to_pose([-0.1, -.55, .4], [PI, 0, PI/2], wrist='up')"
   ],
   "metadata": {
    "collapsed": false,
    "ExecuteTime": {
     "start_time": "2023-05-29T10:13:20.944949Z",
     "end_time": "2023-05-29T10:13:22.481872Z"
    }
   }
  },
  {
   "cell_type": "code",
   "execution_count": null,
   "outputs": [],
   "source": [
    "cup_position = cv.move_cup()"
   ],
   "metadata": {
    "collapsed": false,
    "ExecuteTime": {
     "start_time": "2023-05-29T10:13:22.480542Z",
     "end_time": "2023-05-29T10:13:22.621503Z"
    }
   }
  },
  {
   "cell_type": "code",
   "execution_count": null,
   "outputs": [],
   "source": [
    "# Pre graspping\n",
    "ur5.move_to_pose(cup_position+np.array([0, 0.2, 0.015]), [PI/2, 0, -PI/2])"
   ],
   "metadata": {
    "collapsed": false,
    "ExecuteTime": {
     "start_time": "2023-05-29T10:13:22.623538Z",
     "end_time": "2023-05-29T10:13:28.187537Z"
    }
   }
  },
  {
   "cell_type": "code",
   "execution_count": null,
   "outputs": [],
   "source": [
    "ur5.move_to_pose(cup_position + np.array([0, 0.02, 0.017]), [PI / 2, 0, -PI / 2], duration=6)"
   ],
   "metadata": {
    "collapsed": false,
    "ExecuteTime": {
     "start_time": "2023-05-29T10:13:28.189541Z",
     "end_time": "2023-05-29T10:13:33.037748Z"
    }
   }
  },
  {
   "cell_type": "code",
   "execution_count": null,
   "outputs": [],
   "source": [
    "ur5.close_gripper()"
   ],
   "metadata": {
    "collapsed": false,
    "ExecuteTime": {
     "start_time": "2023-05-29T10:13:33.038722Z",
     "end_time": "2023-05-29T10:13:34.427536Z"
    }
   }
  },
  {
   "cell_type": "code",
   "execution_count": null,
   "outputs": [],
   "source": [
    "ur5.move_to_pose(np.array([0.4, 0, cup_position[2]+0.1]), [PI/2, 0, -PI/2], wrist='up', duration=10)"
   ],
   "metadata": {
    "collapsed": false,
    "ExecuteTime": {
     "start_time": "2023-05-29T10:13:34.428756Z",
     "end_time": "2023-05-29T10:13:43.402190Z"
    }
   }
  },
  {
   "cell_type": "code",
   "execution_count": null,
   "outputs": [],
   "source": [
    "ur5.move_to_pose(np.array([0.4, 0, cup_position[2]+0.008]), [PI/2, 0, -PI/2], wrist='up')"
   ],
   "metadata": {
    "collapsed": false,
    "ExecuteTime": {
     "start_time": "2023-05-29T10:13:43.403201Z",
     "end_time": "2023-05-29T10:13:45.132908Z"
    }
   }
  },
  {
   "cell_type": "code",
   "execution_count": null,
   "outputs": [],
   "source": [
    "ur5.open_gripper()\n",
    "time.sleep(1)"
   ],
   "metadata": {
    "collapsed": false,
    "ExecuteTime": {
     "start_time": "2023-05-29T10:13:45.132892Z",
     "end_time": "2023-05-29T10:13:47.511484Z"
    }
   }
  },
  {
   "cell_type": "code",
   "execution_count": null,
   "outputs": [],
   "source": [
    "ur5.move_to_pose(np.array([0.4, .1, cup_position[2]+0.01]), [PI/2, 0, -PI/2], wrist='up')"
   ],
   "metadata": {
    "collapsed": false,
    "ExecuteTime": {
     "start_time": "2023-05-29T10:13:47.513363Z",
     "end_time": "2023-05-29T10:13:49.302862Z"
    }
   }
  },
  {
   "cell_type": "code",
   "execution_count": null,
   "outputs": [],
   "source": [
    "ur5.move_to_pose(np.array([0.4, .1, cup_position[2]+0.2]), [PI/2, 0, -PI/2], wrist='up')"
   ],
   "metadata": {
    "collapsed": false,
    "ExecuteTime": {
     "start_time": "2023-05-29T10:13:49.304422Z",
     "end_time": "2023-05-29T10:13:50.892094Z"
    }
   }
  },
  {
   "cell_type": "code",
   "execution_count": null,
   "outputs": [],
   "source": [
    "ur5.move_to_pose([-0.1, -.55, .4], [PI, 0, PI/2], wrist='up')"
   ],
   "metadata": {
    "collapsed": false,
    "ExecuteTime": {
     "start_time": "2023-05-29T10:13:50.893720Z",
     "end_time": "2023-05-29T10:13:56.278248Z"
    }
   }
  }
 ],
 "metadata": {
  "kernelspec": {
   "display_name": "Python 3",
   "language": "python",
   "name": "python3"
  },
  "language_info": {
   "codemirror_mode": {
    "name": "ipython",
    "version": 2
   },
   "file_extension": ".py",
   "mimetype": "text/x-python",
   "name": "python",
   "nbconvert_exporter": "python",
   "pygments_lexer": "ipython2",
   "version": "2.7.6"
  }
 },
 "nbformat": 4,
 "nbformat_minor": 0
}
