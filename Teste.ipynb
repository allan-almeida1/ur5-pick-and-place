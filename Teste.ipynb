{
 "cells": [
  {
   "cell_type": "code",
   "execution_count": 139,
   "metadata": {
    "collapsed": true,
    "ExecuteTime": {
     "start_time": "2023-05-07T06:58:50.059629Z",
     "end_time": "2023-05-07T06:58:50.227865Z"
    }
   },
   "outputs": [],
   "source": [
    "from coppeliasim_zmqremoteapi_client import *\n",
    "import math\n",
    "import numpy as np\n",
    "import threading\n",
    "PI = math.pi\n",
    "client = RemoteAPIClient()\n",
    "sim = client.getObject('sim')\n",
    "cancel = threading.Event()"
   ]
  },
  {
   "cell_type": "markdown",
   "source": [
    "### Get Handles and Setup Joints"
   ],
   "metadata": {
    "collapsed": false
   }
  },
  {
   "cell_type": "code",
   "execution_count": 140,
   "outputs": [],
   "source": [
    "joint_handles = []\n",
    "finger_handles = []\n",
    "link_handles = []\n",
    "connector = sim.getObject('/ROBOTIQ_85_attachPoint')\n",
    "objectSensor = sim.getObject('/ROBOTIQ_85_attachProxSensor')\n",
    "attached_shape = -1\n",
    "for i in range(1,7):\n",
    "    joint_handle = sim.getObject('/UR5_joint'+str(i))\n",
    "    joint_handles.append(joint_handle)\n",
    "    sim.setJointMode(joint_handle, sim.jointmode_dynamic, 0)\n",
    "    sim.setObjectInt32Param(joint_handle, sim.jointintparam_dynctrlmode, sim.jointdynctrl_velocity)\n",
    "    sim.setObjectInt32Param(joint_handle, sim.jointintparam_motor_enabled, 1)\n",
    "    sim.setObjectInt32Param(joint_handle, sim.jointintparam_velocity_lock, 1)\n",
    "    sim.setJointTargetVelocity(joint_handle, 0)\n",
    "    link_handle = sim.getObject('/UR5_link'+str(i+1)+'_visible')\n",
    "    link_handles.append(link_handle)\n",
    "\n",
    "    if i < 3:\n",
    "        finger_handle = sim.getObject('/ROBOTIQ_85_active'+str(i))\n",
    "        finger_handles.append(finger_handle)\n",
    "        sim.setJointMode(finger_handle, sim.jointmode_dynamic, 0)\n",
    "        sim.setObjectInt32Param(finger_handle, sim.jointintparam_dynctrlmode, sim.jointdynctrl_velocity)\n",
    "        sim.setObjectInt32Param(finger_handle, sim.jointintparam_motor_enabled, 1)\n",
    "        sim.setObjectInt32Param(finger_handle, sim.jointintparam_velocity_lock, 1)\n",
    "        sim.setJointTargetVelocity(finger_handle, 0.01)\n"
   ],
   "metadata": {
    "collapsed": false,
    "ExecuteTime": {
     "start_time": "2023-05-07T06:58:50.227775Z",
     "end_time": "2023-05-07T06:58:57.179151Z"
    }
   }
  },
  {
   "cell_type": "markdown",
   "source": [
    "## DH Parameters (Forward Kinematics)"
   ],
   "metadata": {
    "collapsed": false
   }
  },
  {
   "cell_type": "code",
   "execution_count": 141,
   "outputs": [],
   "source": [
    "from math import sin, cos\n",
    "from functools import reduce\n",
    "frame0 = sim.getObject('/frame0')\n",
    "frame6 = sim.getObject('/frame6')\n",
    "d1 = 0.0892\n",
    "a2 = 0.4251\n",
    "a3 = 0.3923\n",
    "d4 = 0.1092\n",
    "d5 = 0.09465\n",
    "d6 = 0.176\n",
    "dh_table = np.array([[0, PI/2, d1, 0],\n",
    "                     [a2, 0, 0, PI/2],\n",
    "                     [a3, 0, 0, 0],\n",
    "                     [0, -PI/2, d4, -PI/2],\n",
    "                     [0, PI/2, d5, 0],\n",
    "                     [0, 0, d6, 0]])\n",
    "\n",
    "\n",
    "def forward_kinematics(theta):\n",
    "    A = np.array([np.array([[cos(theta[i]+dh_table[i][3]), -sin(theta[i]+dh_table[i][3])*cos(dh_table[i][1]),\n",
    "                             sin(theta[i]+dh_table[i][3])*sin(dh_table[i][1]), dh_table[i][0]*cos(theta[i]+dh_table[i][3])],\n",
    "                            [sin(theta[i]+dh_table[i][3]), cos(theta[i]+dh_table[i][3])*cos(dh_table[i][1]),\n",
    "                             -cos(theta[i]+dh_table[i][3])*sin(dh_table[i][1]), dh_table[i][0]*sin(theta[i]+dh_table[i][3])],\n",
    "                            [0, sin(dh_table[i][1]), cos(dh_table[i][1]), dh_table[i][2]],\n",
    "                            [0, 0, 0, 1]]) for i in range(6)])\n",
    "\n",
    "    T = reduce(np.dot, A)\n",
    "    return T"
   ],
   "metadata": {
    "collapsed": false,
    "ExecuteTime": {
     "start_time": "2023-05-07T06:58:57.186875Z",
     "end_time": "2023-05-07T06:58:57.426114Z"
    }
   }
  },
  {
   "cell_type": "markdown",
   "source": [
    "## Ground Truth"
   ],
   "metadata": {
    "collapsed": false
   }
  },
  {
   "cell_type": "code",
   "execution_count": 142,
   "outputs": [],
   "source": [
    "def get_ground_truth():\n",
    "    np.array(sim.getObjectPosition(frame6, frame0))\n",
    "    return np.vstack([np.array(sim.poseToMatrix(sim.getObjectPose(frame6, frame0)), dtype=np.float64).reshape(3,4), [0, 0, 0, 1]])"
   ],
   "metadata": {
    "collapsed": false,
    "ExecuteTime": {
     "start_time": "2023-05-07T06:58:57.430462Z",
     "end_time": "2023-05-07T06:58:57.433666Z"
    }
   }
  },
  {
   "cell_type": "markdown",
   "source": [
    "### Start Simulation"
   ],
   "metadata": {
    "collapsed": false
   }
  },
  {
   "cell_type": "code",
   "execution_count": 143,
   "outputs": [
    {
     "data": {
      "text/plain": "1"
     },
     "execution_count": 143,
     "metadata": {},
     "output_type": "execute_result"
    }
   ],
   "source": [
    "sim.startSimulation()"
   ],
   "metadata": {
    "collapsed": false,
    "ExecuteTime": {
     "start_time": "2023-05-07T06:58:57.435799Z",
     "end_time": "2023-05-07T06:58:57.563065Z"
    }
   }
  },
  {
   "cell_type": "markdown",
   "source": [
    "### Useful functions"
   ],
   "metadata": {
    "collapsed": false
   }
  },
  {
   "cell_type": "code",
   "execution_count": 144,
   "outputs": [],
   "source": [
    "def limit_angle(angle):\n",
    "    angle_mod = angle % (4 * np.pi)\n",
    "    if angle_mod > 2* np.pi:\n",
    "        angle_mod -= 4 * np.pi\n",
    "    return angle_mod"
   ],
   "metadata": {
    "collapsed": false,
    "ExecuteTime": {
     "start_time": "2023-05-07T06:58:57.564886Z",
     "end_time": "2023-05-07T06:58:57.566778Z"
    }
   }
  },
  {
   "cell_type": "code",
   "execution_count": 145,
   "outputs": [],
   "source": [
    "def get_positions(joint_handles):\n",
    "    positions = np.zeros(len(joint_handles))\n",
    "    for joint_handle in joint_handles:\n",
    "        positions[joint_handles.index(joint_handle)] = limit_angle(sim.getJointPosition(joint_handle))\n",
    "    return positions"
   ],
   "metadata": {
    "collapsed": false,
    "ExecuteTime": {
     "start_time": "2023-05-07T06:58:57.567012Z",
     "end_time": "2023-05-07T06:58:57.607685Z"
    }
   }
  },
  {
   "cell_type": "markdown",
   "source": [
    "### Move to Configuration"
   ],
   "metadata": {
    "collapsed": false
   }
  },
  {
   "cell_type": "code",
   "execution_count": 146,
   "outputs": [],
   "source": [
    "def task(joint_handles, target):\n",
    "    global cancel\n",
    "    if cancel.is_set():\n",
    "        return\n",
    "    kp = np.array([.4, .4, .4, .4, .4, .4])\n",
    "    limit = np.array([0.4, 0.4, 0.4, 0.4, 0.4, 0.4])\n",
    "    error = np.array(target) - get_positions(joint_handles)\n",
    "    threshold = np.array([0.01, 0.01, 0.01, 0.01, 0.01, 0.01])\n",
    "    while np.max(np.abs(error)) > np.max(threshold):\n",
    "        if cancel.is_set():\n",
    "            return\n",
    "        control_signal = kp*error\n",
    "        mask = control_signal > limit\n",
    "        control_signal[mask] = limit[mask]\n",
    "        mask = control_signal < -limit\n",
    "        control_signal[mask] = -limit[mask]\n",
    "        for joint_handle in joint_handles:\n",
    "            if np.abs(error[joint_handles.index(joint_handle)]) < threshold[joint_handles.index(joint_handle)]:\n",
    "                sim.setJointTargetVelocity(joint_handle, 0)\n",
    "            else:\n",
    "                sim.setJointTargetVelocity(joint_handle, control_signal[joint_handles.index(joint_handle)])\n",
    "        error = np.array(target) - get_positions(joint_handles)\n",
    "    for joint_handle in joint_handles:\n",
    "        sim.setJointTargetVelocity(joint_handle, 0)"
   ],
   "metadata": {
    "collapsed": false,
    "ExecuteTime": {
     "start_time": "2023-05-07T06:58:57.607744Z",
     "end_time": "2023-05-07T06:58:57.607838Z"
    }
   }
  },
  {
   "cell_type": "code",
   "execution_count": 165,
   "outputs": [],
   "source": [
    "def move_to_config(joint_handles: list[int], target: list[float], block=True):\n",
    "    \"\"\"\n",
    "        Move to configuration using proportional control\n",
    "\n",
    "        joint_handles: list of joint handles\n",
    "\n",
    "        target: list of target angles\n",
    "\n",
    "        block: whether to block until the target is reached\n",
    "\n",
    "        \"\"\"\n",
    "    global cancel\n",
    "    if 'move_to_config' in [t.name for t in threading.enumerate()]:\n",
    "        print('Cancelling previous move to configuration')\n",
    "        cancel.set()\n",
    "        t = [t for t in threading.enumerate() if t.name == 'move_to_config'][0]\n",
    "        t.join()\n",
    "    cancel.clear()\n",
    "    thread = threading.Thread(target=task, args=(joint_handles, target), name='move_to_config')\n",
    "    print('Moving to configuration...')\n",
    "    thread.start()\n",
    "    if block:\n",
    "        thread.join()"
   ],
   "metadata": {
    "collapsed": false,
    "ExecuteTime": {
     "start_time": "2023-05-07T09:38:10.674190Z",
     "end_time": "2023-05-07T09:38:10.718009Z"
    }
   }
  },
  {
   "cell_type": "markdown",
   "source": [
    "### Control Gripper"
   ],
   "metadata": {
    "collapsed": false
   }
  },
  {
   "cell_type": "code",
   "execution_count": 148,
   "outputs": [],
   "source": [
    "def close_gripper():\n",
    "    global attached_shape\n",
    "    index = 0\n",
    "    while True:\n",
    "        shape = sim.getObjects(index, sim.object_shape_type)\n",
    "\n",
    "        if shape == -1:\n",
    "            break\n",
    "        elif(sim.getObjectInt32Param(shape,sim.shapeintparam_static)==0) and \\\n",
    "            (sim.getObjectInt32Param(shape,sim.shapeintparam_respondable)!=0) and \\\n",
    "            (sim.checkProximitySensor(objectSensor,shape)[0]==1):\n",
    "            object_name = sim.getObjectName(shape)\n",
    "            print('Object detected: ' + object_name)\n",
    "            attached_shape = shape\n",
    "            # Do the connection:\n",
    "            sim.setObjectParent(attached_shape,connector, True)\n",
    "            break\n",
    "        index += 1\n",
    "    sim.setJointTargetVelocity(finger_handles[0], -0.02)\n",
    "    sim.setJointTargetVelocity(finger_handles[1], -0.02)\n",
    "    while True:\n",
    "        if sim.getJointForce(finger_handles[0]) > 9 and sim.getJointForce(finger_handles[1]) > 9:\n",
    "            sim.setJointTargetVelocity(finger_handles[0], 0)\n",
    "            sim.setJointTargetVelocity(finger_handles[1], 0)\n",
    "            break"
   ],
   "metadata": {
    "collapsed": false,
    "ExecuteTime": {
     "start_time": "2023-05-07T06:58:57.607836Z",
     "end_time": "2023-05-07T06:58:57.607914Z"
    }
   }
  },
  {
   "cell_type": "code",
   "execution_count": 149,
   "outputs": [],
   "source": [
    "def open_gripper():\n",
    "    global attached_shape\n",
    "    if attached_shape != -1:\n",
    "        sim.setObjectParent(attached_shape, -1, True)\n",
    "    sim.setJointTargetVelocity(finger_handles[0], 0.02)\n",
    "    sim.setJointTargetVelocity(finger_handles[1], 0.02)\n",
    "    while True:\n",
    "        if sim.getJointForce(finger_handles[0]) < -9 and sim.getJointForce(finger_handles[1]) < -9:\n",
    "            sim.setJointTargetVelocity(finger_handles[0], 0)\n",
    "            sim.setJointTargetVelocity(finger_handles[1], 0)\n",
    "            break\n",
    "    attached_shape = -1"
   ],
   "metadata": {
    "collapsed": false,
    "ExecuteTime": {
     "start_time": "2023-05-07T06:58:57.607885Z",
     "end_time": "2023-05-07T06:58:57.607940Z"
    }
   }
  },
  {
   "cell_type": "code",
   "execution_count": 150,
   "outputs": [],
   "source": [
    "open_gripper()"
   ],
   "metadata": {
    "collapsed": false,
    "ExecuteTime": {
     "start_time": "2023-05-07T06:58:57.607948Z",
     "end_time": "2023-05-07T06:58:57.749002Z"
    }
   }
  },
  {
   "cell_type": "code",
   "execution_count": 173,
   "outputs": [
    {
     "name": "stdout",
     "output_type": "stream",
     "text": [
      "Moving to configuration...\n"
     ]
    }
   ],
   "source": [
    "move_to_config(joint_handles, [0, 0, 0, 0, 0, 0], block=True)"
   ],
   "metadata": {
    "collapsed": false,
    "ExecuteTime": {
     "start_time": "2023-05-07T09:45:21.851384Z",
     "end_time": "2023-05-07T09:45:25.516499Z"
    }
   }
  },
  {
   "cell_type": "code",
   "execution_count": 170,
   "outputs": [
    {
     "name": "stdout",
     "output_type": "stream",
     "text": [
      "Moving to configuration...\n"
     ]
    }
   ],
   "source": [
    "move_to_config(joint_handles, [.5*PI, .05*PI, .45*PI, 0, -.5*PI, PI/2])"
   ],
   "metadata": {
    "collapsed": false,
    "ExecuteTime": {
     "start_time": "2023-05-07T09:44:00.919561Z",
     "end_time": "2023-05-07T09:44:10.732335Z"
    }
   }
  },
  {
   "cell_type": "code",
   "execution_count": 172,
   "outputs": [
    {
     "name": "stdout",
     "output_type": "stream",
     "text": [
      "Moving to configuration...\n"
     ]
    }
   ],
   "source": [
    "move_to_config(joint_handles, [.42*PI, .09*PI, .41*PI, 0, -.5*PI, PI/2], block=False)"
   ],
   "metadata": {
    "collapsed": false,
    "ExecuteTime": {
     "start_time": "2023-05-07T09:45:06.018796Z",
     "end_time": "2023-05-07T09:45:06.022003Z"
    }
   }
  },
  {
   "cell_type": "code",
   "execution_count": 154,
   "outputs": [
    {
     "name": "stdout",
     "output_type": "stream",
     "text": [
      "Moving to configuration...\n"
     ]
    }
   ],
   "source": [
    "move_to_config(joint_handles, [.1*PI, .18*PI, .57*PI, .25*PI, 0.22, PI/2])"
   ],
   "metadata": {
    "collapsed": false,
    "ExecuteTime": {
     "start_time": "2023-05-07T06:59:03.940918Z",
     "end_time": "2023-05-07T06:59:07.757377Z"
    }
   }
  },
  {
   "cell_type": "code",
   "execution_count": 155,
   "outputs": [
    {
     "name": "stdout",
     "output_type": "stream",
     "text": [
      "Moving to configuration...\n"
     ]
    }
   ],
   "source": [
    "move_to_config(joint_handles, [.33*PI, .18*PI, .57*PI, .25*PI, 0.22, PI/2])"
   ],
   "metadata": {
    "collapsed": false,
    "ExecuteTime": {
     "start_time": "2023-05-07T06:59:07.758369Z",
     "end_time": "2023-05-07T06:59:10.773645Z"
    }
   }
  },
  {
   "cell_type": "code",
   "execution_count": 156,
   "outputs": [],
   "source": [
    "close_gripper()"
   ],
   "metadata": {
    "collapsed": false,
    "ExecuteTime": {
     "start_time": "2023-05-07T06:59:10.774426Z",
     "end_time": "2023-05-07T06:59:15.242320Z"
    }
   }
  },
  {
   "cell_type": "code",
   "execution_count": 157,
   "outputs": [
    {
     "name": "stdout",
     "output_type": "stream",
     "text": [
      "Moving to configuration...\n"
     ]
    }
   ],
   "source": [
    "move_to_config(joint_handles, [0, 0, 0, 0, 0, 0])"
   ],
   "metadata": {
    "collapsed": false,
    "ExecuteTime": {
     "start_time": "2023-05-07T06:59:15.242480Z",
     "end_time": "2023-05-07T06:59:19.192626Z"
    }
   }
  }
 ],
 "metadata": {
  "kernelspec": {
   "display_name": "Python 3",
   "language": "python",
   "name": "python3"
  },
  "language_info": {
   "codemirror_mode": {
    "name": "ipython",
    "version": 2
   },
   "file_extension": ".py",
   "mimetype": "text/x-python",
   "name": "python",
   "nbconvert_exporter": "python",
   "pygments_lexer": "ipython2",
   "version": "2.7.6"
  }
 },
 "nbformat": 4,
 "nbformat_minor": 0
}
